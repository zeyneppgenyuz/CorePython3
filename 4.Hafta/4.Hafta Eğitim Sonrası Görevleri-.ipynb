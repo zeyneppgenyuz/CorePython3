{
 "cells": [
  {
   "cell_type": "markdown",
   "metadata": {},
   "source": [
    "# Problem 1\n",
    "`ogrenciler` adında bir sözlük oluşturunuz. Kullanıcıdan döngü yardımıyla 3 öğrenci için veri girmesini isteyerek öğrencilerin sırasıyla okul numarası, isim, soy isim, telefon numarası ve doğum tarihi bilgilerini alınız. Aldığınız öğrenci bilgilerini yine aynı döngü yardımıyla `ogrenciler` adındaki sözlükte saklayınız. Daha sonra öğrenci bilgilerinin bulunduğu sözlük yapısını ekrana bastırınız.\n",
    "\n"
   ]
  },
  {
   "cell_type": "code",
   "execution_count": 2,
   "metadata": {},
   "outputs": [
    {
     "name": "stdout",
     "output_type": "stream",
     "text": [
      "{1: {'No': '22033077', 'İsim': 'zeynep', 'Soyisim': 'genyüz', 'Tel numarası': '5525902352', 'Doğum tarihi': '10.02.2004'}}\n",
      "{1: {'No': '22033077', 'İsim': 'zeynep', 'Soyisim': 'genyüz', 'Tel numarası': '5525902352', 'Doğum tarihi': '10.02.2004'}, 2: {'No': '22033077', 'İsim': 'zeynep', 'Soyisim': 'genyüz', 'Tel numarası': '5525902352', 'Doğum tarihi': '10.02.2004'}}\n",
      "{1: {'No': '22033077', 'İsim': 'zeynep', 'Soyisim': 'genyüz', 'Tel numarası': '5525902352', 'Doğum tarihi': '10.02.2004'}, 2: {'No': '22033077', 'İsim': 'zeynep', 'Soyisim': 'genyüz', 'Tel numarası': '5525902352', 'Doğum tarihi': '10.02.2004'}, 3: {'No': '', 'İsim': '', 'Soyisim': '', 'Tel numarası': '', 'Doğum tarihi': ''}}\n"
     ]
    }
   ],
   "source": [
    "ogrenciler={}\n",
    "for i in range(1,4):\n",
    "    okulNo=input(\"Okul numarası: \")\n",
    "    isim=input(\"İsim: \")\n",
    "    soyisim=input(\"Soyisim: \")\n",
    "    telNo=input(\"Tel numarası: \")\n",
    "    dogumTarihi=input(\"Doğum tarihi: \")\n",
    "    ogrenciler[i]={\n",
    "        \"No\" : okulNo,\n",
    "        \"İsim\" : isim,\n",
    "        \"Soyisim\" : soyisim,\n",
    "        \"Tel numarası\" : telNo,\n",
    "        \"Doğum tarihi\" : dogumTarihi,\n",
    "    }\n",
    "    print(ogrenciler)"
   ]
  },
  {
   "cell_type": "markdown",
   "metadata": {},
   "source": [
    "# Problem 2\n",
    "\n",
    "### a - Biraz ısınarak başlayalım!\n",
    "\n",
    "```\n",
    "numbers = [5,10,10,15,15,15,20,20,20,20]\n",
    "```\n",
    "\n",
    "Yukarıda `numbers` adında 10 elemanlı bir liste verilmiştir. Bu listenin her elemanını kontrol eden ve tekrar eden elemanları bir kez olacak şekilde başka bir listeye kopyalayan bir program yazınız. Son olarak oluşturduğunuz listeyi ekrana bastırınız.\n",
    "\n",
    "\n",
    "\n",
    "\n",
    "```\n",
    ">Output\n",
    "[5, 10, 15, 20]\n",
    "```\n"
   ]
  },
  {
   "cell_type": "code",
   "execution_count": 3,
   "metadata": {},
   "outputs": [
    {
     "name": "stdout",
     "output_type": "stream",
     "text": [
      "[5, 10, 15, 20]\n"
     ]
    }
   ],
   "source": [
    "numbers=[5,10,10,15,15,15,20,20,20,20]\n",
    "yeniset=set()\n",
    "for i in numbers:\n",
    "    yeniset.add(i)\n",
    "liste=list(yeniset)\n",
    "liste.sort()\n",
    "print(liste)\n"
   ]
  },
  {
   "cell_type": "markdown",
   "metadata": {},
   "source": [
    "### 🌶️ b) Hadi işi biraz daha zorlaştıralım! \n",
    "\n",
    "\n",
    "Şimdiyse senden `numbers` isimli listedeki tekrar eden elemanları `repeatNumbers` adındaki listeye; tekrar etmeyen elemanları `uniqueNumbers`adındaki listeye kopyalayan yazmanı ve listeleri ekrana bastırmanı bekliyoruz\n",
    "\n",
    "```\n",
    ">Output\n",
    "Tekrar Eden Elemanlar: [10, 10, 15, 15, 15, 20, 20, 20, 20]\n",
    "Tekrar Etmeyen Elemanlar: [5]\n",
    "```"
   ]
  },
  {
   "cell_type": "code",
   "execution_count": 5,
   "metadata": {},
   "outputs": [
    {
     "name": "stdout",
     "output_type": "stream",
     "text": [
      "[10, 10, 15, 15, 15, 20, 20, 20, 20]\n",
      "[5]\n"
     ]
    }
   ],
   "source": [
    "numbers=[5,10,10,15,15,15,20,20,20,20]\n",
    "repeatNumbers=[]\n",
    "uniqueNumbers=[]\n",
    "for i in numbers:\n",
    "    if numbers.count(i)>1:\n",
    "        repeatNumbers.append(i)\n",
    "    elif numbers.count(i)==1:\n",
    "        uniqueNumbers.append(i)\n",
    "print(repeatNumbers)\n",
    "print(uniqueNumbers)\n"
   ]
  },
  {
   "cell_type": "markdown",
   "metadata": {},
   "source": [
    "# Problem 3\n",
    "sn1 = {1,2,3,4,5}\n",
    "\n",
    "sn2 = {4,5,6,7,8}\n",
    "\n",
    " Verilen 2 adet küme için kesişimlerini, farklarını ve birleşimlerini bulunuz. "
   ]
  },
  {
   "cell_type": "code",
   "execution_count": 6,
   "metadata": {},
   "outputs": [
    {
     "name": "stdout",
     "output_type": "stream",
     "text": [
      "{4, 5}\n"
     ]
    }
   ],
   "source": [
    "sn1 = {1,2,3,4,5}\n",
    "sn2 = {4,5,6,7,8}\n",
    "kesisim=sn1.intersection(sn2)\n",
    "print(kesisim)"
   ]
  },
  {
   "cell_type": "markdown",
   "metadata": {},
   "source": [
    "# Problem 4\n",
    "\n",
    "Buradaki işlemlerimizin tamamı stringler içindir. Aşağıda verilecek olan metodlar için kendinizin örnek yaratması gerekmektedir. \n",
    "\n",
    "Örneğin `upper` için `string` değişkeni oluştururken` k = \"BAC\"` şeklinde oluşturmayınız. Bunun yerine k değişkenini `k = \"bac`\" şeklinde oluşturmanız `upper` metodundaki değişimi görebilmeniz için daha iyi olacaktır.\n",
    "\n",
    "Bütün metodlardaki değişimin gözle görülür şekilde değişimi beklenmektedir.\n",
    "\n",
    "\n",
    "1- capitalize(), lower(), upper(), swapcase(), title(), replace()\n",
    "\n",
    "2- endswith(), startswith(), find(), index(), count()\n",
    "\n",
    "3- split(), strip(), join(), islower(), isalpha(), isdigit()\n",
    "\n",
    "\n",
    "Yukarıdaki `string` metodlarındaki değişimleri görebildiğimiz bir program yazınız.\n"
   ]
  },
  {
   "cell_type": "code",
   "execution_count": 11,
   "metadata": {},
   "outputs": [
    {
     "name": "stdout",
     "output_type": "stream",
     "text": [
      "YetGen Core Pyhton Eğitimi\n",
      "['YetGen', 'Core', 'Pyhton', 'Eğitimi']\n",
      "YetGen#Core#Pyhton#Eğitimi\n",
      "False\n",
      "False\n",
      "False\n",
      "True\n"
     ]
    }
   ],
   "source": [
    "k = \"YetGen Core Pyhton Eğitimi\"\n",
    "k = k.strip()\n",
    "print(k)\n",
    "print(k.split(\" \"))\n",
    "\n",
    "l = (\"YetGen\", \"Core\", \"Pyhton\", \"Eğitimi\")\n",
    "print(\"#\".join(l))\n",
    "print(k.islower())\n",
    "print(k.isalpha())\n",
    "print(k.isdigit())\n",
    "print(k.lower().islower())\n",
    "\n",
    "\n"
   ]
  }
 ],
 "metadata": {
  "kernelspec": {
   "display_name": "Python 3.10.5 64-bit",
   "language": "python",
   "name": "python3"
  },
  "language_info": {
   "codemirror_mode": {
    "name": "ipython",
    "version": 3
   },
   "file_extension": ".py",
   "mimetype": "text/x-python",
   "name": "python",
   "nbconvert_exporter": "python",
   "pygments_lexer": "ipython3",
   "version": "3.12.3"
  },
  "orig_nbformat": 4,
  "vscode": {
   "interpreter": {
    "hash": "5026d2d6e7aaaaba093def813beadff083d8733e4a511af01735cbabd156995d"
   }
  }
 },
 "nbformat": 4,
 "nbformat_minor": 2
}
