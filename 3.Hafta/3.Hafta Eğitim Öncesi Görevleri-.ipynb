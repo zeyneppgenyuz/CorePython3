{
  "cells": [
    {
      "cell_type": "markdown",
      "metadata": {
        "id": "tsD4YVAe_Te2"
      },
      "source": [
        "# Problem 1\n",
        "Bir sayının 7'ye bölünebilir olup olmadığını kontrol etmek \n",
        "için bir program yazın.\n",
        "\n",
        "İpucu: Mod operatörünü (%) kullanabilirsiniz."
      ]
    },
    {
      "cell_type": "code",
      "execution_count": 1,
      "metadata": {
        "id": "NGjvNwKx_Te7"
      },
      "outputs": [
        {
          "name": "stdout",
          "output_type": "stream",
          "text": [
            "14 sayısı 7'ye bölünür\n"
          ]
        }
      ],
      "source": [
        "sayi = int(input(\"Bir sayı giriniz: \"))\n",
        "if sayi % 7 == 0:\n",
        "    print(f\"{sayi} sayısı 7'ye bölünür\" )\n",
        "else: \n",
        "    print(f\"{sayi} sayısı 7'ye bölünmez\" )\n",
        "    "
      ]
    },
    {
      "cell_type": "markdown",
      "metadata": {
        "id": "Kg3qiBAI_Te8"
      },
      "source": [
        "# Problem 2\n",
        "Kullanıcıdan vize ve final notu isteyin. Girilen vize notunun %40’ı ve \n",
        "girilen finalnotunun ise %60’ı alınarak yıl sonu not ortalaması hesaplanacaktır. \n",
        "\n",
        "Bu not ortalaması eğer 85 ve üzeri ise AA, \n",
        "\n",
        "75 ve 85 arasında ise BA, \n",
        "\n",
        "70 ve 75 arasında ise BB, \n",
        "\n",
        "65 ve 70 arasında ise CB,\n",
        "\n",
        "60 ve 65 arasında ise CC,\n",
        "\n",
        "55 ve 60 arasında ise DC,\n",
        "\n",
        "50 ve 55 arasında ise DD olarak hesaplanacaktır. \n",
        "\n",
        "Bu öğrencinin yıl sonu toplam notu 50’nin altında ise FF ile dersten kalacaktır. \n",
        "\n",
        "Ayrıca öğrencinin final notu 50’nin altında ise direkt FF ile kalacaktır."
      ]
    },
    {
      "cell_type": "code",
      "execution_count": 23,
      "metadata": {
        "id": "MXTtCxI1_Te8"
      },
      "outputs": [
        {
          "name": "stdout",
          "output_type": "stream",
          "text": [
            "BA alacaksın\n",
            "Yıl Sonu not ortalamanız: 77.0\n"
          ]
        }
      ],
      "source": [
        "vizeNotu = float(input(\"Vize notunu giriniz: \"))\n",
        "finalNotu = float(input(\"Final notunu giriniz: \"))\n",
        "yilSonuNotu = (vizeNotu * 0.40) + (finalNotu * 0.60)\n",
        "\n",
        "if finalNotu < 50:\n",
        "    print(\"Final notu 50'nin altında, harf notunuz: FF olacaktır\")\n",
        "else:\n",
        "    if yilSonuNotu >= 85:\n",
        "        print(\"AA alacaksın\") \n",
        "    elif 85 > yilSonuNotu >= 75:\n",
        "        print(\"BA alacaksın\") \n",
        "    elif 75 > yilSonuNotu >=70:\n",
        "        print(\"BB alacaksın\") \n",
        "    elif 70 > yilSonuNotu >=65:\n",
        "        print(\"CB alacaksın\") \n",
        "    elif 65 > yilSonuNotu >= 60:\n",
        "        print(\"CC alacaksın\") \n",
        "    elif 60 > yilSonuNotu >= 55:\n",
        "        print(\"DC alacaksın\") \n",
        "    elif 55 > yilSonuNotu >= 50:\n",
        "        print(\"DD alacaksın\") \n",
        "    else:\n",
        "        print(\"FF alacaksın\") \n",
        "    \n",
        "    print(\"Yıl Sonu not ortalamanız:\", yilSonuNotu)\n",
        "\n"
      ]
    },
    {
      "cell_type": "markdown",
      "metadata": {
        "id": "tAoRYCTC_Te8"
      },
      "source": [
        "# Problem 3\n",
        "İki YetGenli Zirve'de karşılaşıyorlar. Birbirlerini tanımak için sorular soruyorlar. Birbirlerine yaşlarını soruyorlar. Akıllarına bir Python programı yazıp, yaşlarını ve isimlerini giriyorlar. Büyük olanın yaşını ekrana yazdıran programı yazıyorlar. Sende bu iki YetGenli'ye destek olmak ister misin?\n",
        "\n",
        "```\n",
        "Birinci YetGenlinin ismi: Ahmet\n",
        "Birinci YetGenlinin yaşı : 20\n",
        "İkinci YetGenlinin ismi: Mehmet\n",
        "İkinci YetGenlinin yaşı : 25\n",
        "Mehmet'in yaşı daha büyük ve yaşı 25'tir.\n",
        "```"
      ]
    },
    {
      "cell_type": "code",
      "execution_count": 27,
      "metadata": {
        "id": "bPjE8W0i_Te8"
      },
      "outputs": [
        {
          "name": "stdout",
          "output_type": "stream",
          "text": [
            "Mehmet 'in yaşı daha büyük ve yaşı 25 'tır.\n"
          ]
        }
      ],
      "source": [
        "birinciYetgenliIsmi=input(\"ismi giriniz: \")\n",
        "ikinciYetgenliIsmi=input(\"ismi giriniz: \")\n",
        "birinciYetgenliYas=input(\"Yaşı giriniz: \")\n",
        "ikinciYetgenliYas=input(\"Yaşı giriniz: \")\n",
        "\n",
        "if birinciYetgenliYas>ikinciYetgenliYas:\n",
        "    print(f\"{birinciYetgenliIsmi} 'in yaşı daha büyük ve yaşı {birinciYetgenliYas} 'tır.\")\n",
        "elif ikinciYetgenliYas>birinciYetgenliYas:\n",
        "    print(f\"{ikinciYetgenliIsmi} 'in yaşı daha büyük ve yaşı {ikinciYetgenliYas} 'tır.\")\n",
        "else:\n",
        "    print(f\"{birinciYetgenliIsmi} ve {ikinciYetgenliIsmi} aynı yaştadır.\")\n",
        "\n"
      ]
    },
    {
      "cell_type": "markdown",
      "metadata": {
        "id": "zBVv8Tyg_Te9"
      },
      "source": [
        "# Problem 4\n",
        "Pandemi döneminde AVM'lerde ateş ölçümü yapılıyor. AVM'ye giren kişinin ateş ölçümü 37.5 derecenin altında ise girişe izin veriliyor. 37.5 derecenin üstünde ise girişe izin verilmiyor. AVM'ye girişe izin verilip verilmediğini ekrana yazdıran bir program yazın.\n",
        "\n",
        "Program sonunda şöyle bir çıktı elde etmelisiniz:\n",
        "\n",
        "```\n",
        "Ateşiniz 37.5 derece. AVM'ye girebilirsin! Maske takmayı unutma!\n",
        "Ateşiniz 37.6 derece. AVM'ye giremezsin! Hemen evine dön!\n",
        "```"
      ]
    },
    {
      "cell_type": "code",
      "execution_count": 30,
      "metadata": {
        "id": "TSAXs8et_Te9"
      },
      "outputs": [
        {
          "name": "stdout",
          "output_type": "stream",
          "text": [
            " Ateşiniz 38.0 derece. AVM'ye giremezsiniz.\n"
          ]
        }
      ],
      "source": [
        "ates=float(input(\"Ateşinizi giriniz: \"))\n",
        "if ates >= 37.5 :\n",
        "    print(\" Ateşiniz \" + str(ates) + \" derece. AVM'ye giremezsiniz.\" )\n",
        "\n",
        "else:\n",
        "    print(\" Ateşiniz \" + str(ates) + \"derece. AVM'ye girebilirsiniz. Maske takmayı unutma! \")\n",
        "\n"
      ]
    },
    {
      "cell_type": "markdown",
      "metadata": {
        "id": "6AEkZrDt_Te9"
      },
      "source": [
        "# Problem 5\n",
        "YetGen bir spor kulübüyle sponsorluk anlaşması yapıyor. Kulüp, sponsorluk anlaşmasına göre her YetGen liderinin beden kitle indeksini hesaplamak istiyor. Spor kulübü, beden kitle indeksini hesaplamak için YetGen Jump Python liderlerinden Berkcan ve Ahmet'i arıyor. Berkcan ve Ahmet, kulübe yardımcı olmak için bir Python programı yazıyorlar. Sende bu iki YetGen liderine destek olmak ister misin?\n",
        "\n",
        "Kullanıcıdan alınan boy ve kilo değerlerine göre beden kitle indeksini hesaplayın ve şu kurallara göre ekrana şu yazıları yazdırın.\n",
        "\n",
        "\n",
        "Beden Kitle İndeksi, kişinin ağırlığının (kg olarak) boyunun karesine (m olarak) bölünmesiyle hesaplanır.\n",
        "\n",
        "\n",
        "```\n",
        " BKİ 18.5'un altındaysa -------> Zayıf\n",
        "\n",
        " BKİ 18.5 ile 25 arasındaysa ------> Normal\n",
        "\n",
        " BKİ 25 ile 30 arasındaysa --------> Fazla Kilolu\n",
        "\n",
        " BKİ 30'un üstündeyse -------------> Obez\n",
        "```\n",
        "\n"
      ]
    },
    {
      "cell_type": "code",
      "execution_count": 31,
      "metadata": {
        "id": "t-XPI_u0_Te-"
      },
      "outputs": [
        {
          "name": "stdout",
          "output_type": "stream",
          "text": [
            "Zayıfsınız.\n"
          ]
        }
      ],
      "source": [
        "boy=float(input(\"Boyunuzu m cinsinden giriniz: \"))\n",
        "kilo=float(input(\"Kilonuzu kg cinsinden giriniz: \"))\n",
        "vki=kilo/boy**2\n",
        "vki=round(vki,2)\n",
        "\n",
        "if vki<18.5 :\n",
        "    print(\"Zayıfsınız.\")\n",
        "elif vki<25 :\n",
        "    print(\"Normal kilosunuz. \")\n",
        "elif vki<30:\n",
        "    print(\"Fazla kilosunuz. \")\n",
        "else:\n",
        "    print(\"Obezsiniz.\")"
      ]
    },
    {
      "cell_type": "markdown",
      "metadata": {
        "id": "oFsvQyaO_Te-"
      },
      "source": [
        "# Problem 6\n",
        "Kullanıcıdan isim, yaş ve eğitim bilgilerini isteyip ehliyet alabilme  durumunu kontrol ediniz. \n",
        "\n",
        "Ehliyet alma koşulu en az 18 yaşında ve eğitim durumu lise ya da üniversite olmalıdır. "
      ]
    },
    {
      "cell_type": "code",
      "execution_count": null,
      "metadata": {
        "id": "Tu2mcgco_Te-"
      },
      "outputs": [
        {
          "name": "stdout",
          "output_type": "stream",
          "text": [
            "zeynep genyüz, yaşı 20. Eğitim durumu: üniversite. Eğitim durumu needeniyle ehliyet alamaz.\n"
          ]
        }
      ],
      "source": [
        "isimSoyisim=input(\"İsim ve soyisim giriniz: \")\n",
        "yas=int(input(\"Yaşınızı giriniz: \"))\n",
        "egitim=input(\"Eğitim durumunuzu giriniz: \")\n",
        "if yas>=18 and egitim==\"lise\" or egitim==\"Üniversite\" :\n",
        "    print(f\"{isimSoyisim}, yaşı {yas}. Eğitim durumu: {egitim}. Ehliyet alabilir.\")\n",
        "elif yas<18 and egitim==\"lise\" :\n",
        "    print(f\"{isimSoyisim}, yaşı {yas}. Eğitim durumu: {egitim}. Yaşı nedeniyle ehliyet alamaz.\")\n",
        "elif yas>=18 and (egitim!=\"lise\" or egitim!=\"Üniversite\" ):\n",
        "    print(f\"{isimSoyisim}, yaşı {yas}. Eğitim durumu: {egitim}. Eğitim durumu needeniyle ehliyet alamaz.\")\n",
        "elif yas<18 and (egitim!=\"lise\" or egitim!=\"Üniversite\" ):\n",
        "    print(f\"{isimSoyisim}, yaşı {yas}. Eğitim durumu: {egitim}. Eğitim durumu ve yaşı nedeniyle ehliyet alamaz.\")\n"
      ]
    },
    {
      "cell_type": "markdown",
      "metadata": {
        "id": "eUkxVSAE_Te_"
      },
      "source": [
        "# Problem 7\n",
        "Bir yılın artık yıl olup olmadığını kontrol etmek için bir program yazın. \n",
        "Artık yıl kuralı:\n",
        "\n",
        "a) Eğer yılın son iki basamağı (00) ile bitmiyor ve yalnızca 4'e tam bölünüyorsa artık yıldır. Ya da, \n",
        "\n",
        "b) Eğer yıl 400'e tam bölünüyorsa artık yıldır.\n",
        "\n",
        "**Örneğin**\n",
        "```\n",
        "2017 artık yıl değildir.\n",
        "1900 artık yıl değildir\n",
        "2012 artık yıldır.\n",
        "2000 artık yıldır.\n",
        "```"
      ]
    },
    {
      "cell_type": "code",
      "execution_count": 25,
      "metadata": {
        "id": "4uWh8qUL_Te_"
      },
      "outputs": [
        {
          "name": "stdout",
          "output_type": "stream",
          "text": [
            "2016 artık yıldır.\n"
          ]
        }
      ],
      "source": [
        "yil = int(input(\"Yılı giriniz: \"))\n",
        "if (yil % 4 == 0 and yil % 100 != 0) or (yil % 400 == 0):\n",
        "    print(f\"{yil} artık yıldır.\")\n",
        "else: \n",
        "    print(f\"{yil} artık yıl değildir.\") \n",
        "\n"
      ]
    }
  ],
  "metadata": {
    "colab": {
      "provenance": []
    },
    "kernelspec": {
      "display_name": "Python 3.10.5 64-bit",
      "language": "python",
      "name": "python3"
    },
    "language_info": {
      "codemirror_mode": {
        "name": "ipython",
        "version": 3
      },
      "file_extension": ".py",
      "mimetype": "text/x-python",
      "name": "python",
      "nbconvert_exporter": "python",
      "pygments_lexer": "ipython3",
      "version": "3.12.3"
    },
    "orig_nbformat": 4,
    "vscode": {
      "interpreter": {
        "hash": "5026d2d6e7aaaaba093def813beadff083d8733e4a511af01735cbabd156995d"
      }
    }
  },
  "nbformat": 4,
  "nbformat_minor": 0
}
