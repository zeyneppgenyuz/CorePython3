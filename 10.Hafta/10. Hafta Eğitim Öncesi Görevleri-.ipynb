{
 "cells": [
  {
   "attachments": {},
   "cell_type": "markdown",
   "metadata": {},
   "source": [
    "# Problem 1"
   ]
  },
  {
   "cell_type": "code",
   "execution_count": null,
   "metadata": {},
   "outputs": [],
   "source": [
    "# 1 - numpy kütüphanesini import edin\n",
    "\n",
    "# 2 - 0 ile 10 arasında 5 sayıdan oluşan matris üretin\n",
    "\n",
    "# 3 - matris'in boyutunu öğrenin\n",
    "\n",
    "# 4 - matris'i yeniden boyutlandırın\n",
    "\n",
    "# 5 - matris'in boyut sayısını öğrenin\n"
   ]
  },
  {
   "cell_type": "code",
   "execution_count": 3,
   "metadata": {},
   "outputs": [
    {
     "name": "stdout",
     "output_type": "stream",
     "text": [
      "Requirement already satisfied: numpy in c:\\users\\pc\\appdata\\local\\programs\\python\\python312\\lib\\site-packages (2.1.0)\n",
      "Note: you may need to restart the kernel to use updated packages.\n"
     ]
    },
    {
     "name": "stderr",
     "output_type": "stream",
     "text": [
      "\n",
      "[notice] A new release of pip is available: 24.0 -> 24.2\n",
      "[notice] To update, run: python.exe -m pip install --upgrade pip\n"
     ]
    }
   ],
   "source": [
    "pip install numpy"
   ]
  },
  {
   "cell_type": "code",
   "execution_count": 4,
   "metadata": {},
   "outputs": [
    {
     "name": "stdout",
     "output_type": "stream",
     "text": [
      "2.1.0\n"
     ]
    }
   ],
   "source": [
    "import numpy as np\n",
    "print(np.__version__)"
   ]
  },
  {
   "cell_type": "code",
   "execution_count": 5,
   "metadata": {},
   "outputs": [
    {
     "name": "stdout",
     "output_type": "stream",
     "text": [
      "Matris: [2 2 7 7 4]\n",
      "Matris'in boyutu: (5,)\n",
      "Yeniden boyutlandırılmış matris: [[2 2 7 7 4]]\n",
      "Matris'in boyut sayısı: 2\n"
     ]
    }
   ],
   "source": [
    "matris = np.random.randint(0, 10, size=5)\n",
    "print(\"Matris:\", matris)\n",
    "\n",
    "print(\"Matris'in boyutu:\", matris.shape)\n",
    "\n",
    "matris_reshape = matris.reshape(1, 5)\n",
    "print(\"Yeniden boyutlandırılmış matris:\", matris_reshape)\n",
    "\n",
    "print(\"Matris'in boyut sayısı:\", matris_reshape.ndim)"
   ]
  },
  {
   "attachments": {},
   "cell_type": "markdown",
   "metadata": {},
   "source": [
    "# Problem 2"
   ]
  },
  {
   "cell_type": "code",
   "execution_count": null,
   "metadata": {},
   "outputs": [],
   "source": [
    "# 1 - 0 ile 10 arasında bulunan tek sayılardan oluşan matris üretin\n",
    "\n",
    "# 2 - Oluşturduğunuz matrisi parçalayın\n",
    "\n",
    "# 3 - Parçalanmış matrisleri birleştirin\n"
   ]
  },
  {
   "cell_type": "code",
   "execution_count": 8,
   "metadata": {},
   "outputs": [
    {
     "name": "stdout",
     "output_type": "stream",
     "text": [
      "Tek sayılardan oluşan matris: [1 3 5 7 9]\n",
      "Parça 1: [1 3]\n",
      "Parça 2: [5 7]\n",
      "Parça 3: [9]\n",
      "Birleştirilen matris: [1 3 5 7]\n"
     ]
    }
   ],
   "source": [
    "import numpy as np\n",
    "tek_sayilar = np.arange(1, 10, 2)  \n",
    "print(\"Tek sayılardan oluşan matris:\", tek_sayilar)\n",
    "\n",
    "parca1, parca2, parca3 = np.array_split(tek_sayilar, 3)\n",
    "print(\"Parça 1:\", parca1)\n",
    "print(\"Parça 2:\", parca2)\n",
    "print(\"Parça 3:\", parca3)\n",
    "\n",
    "birlesmis_matris = np.concatenate((parca1, parca2))\n",
    "print(\"Birleştirilen matris:\", birlesmis_matris)"
   ]
  },
  {
   "attachments": {},
   "cell_type": "markdown",
   "metadata": {},
   "source": [
    "# Problem 3"
   ]
  },
  {
   "cell_type": "code",
   "execution_count": null,
   "metadata": {},
   "outputs": [],
   "source": [
    "# 1 - 5 ile 100 arasında ikişer ikişer atlayarak rastgele 10 sayıdan oluşan matris üretin\n",
    "\n",
    "# 2 - matris'in özelliklerini inceleyin\n"
   ]
  },
  {
   "cell_type": "code",
   "execution_count": 9,
   "metadata": {},
   "outputs": [
    {
     "name": "stdout",
     "output_type": "stream",
     "text": [
      "Rastgele 10 sayıdan oluşan matris: [33 91 25  7 79 89 11 51  5 45]\n",
      "Matrisin boyutu: 10\n",
      "Matrisin şekli: (10,)\n",
      "Matrisin veri tipi: int64\n",
      "Matrisin boyut sayısı (ndim): 1\n"
     ]
    }
   ],
   "source": [
    "import numpy as np\n",
    "\n",
    "rastgele_sayilar = np.random.choice(np.arange(5, 101, 2), 10, replace=False)\n",
    "\n",
    "print(\"Rastgele 10 sayıdan oluşan matris:\", rastgele_sayilar)\n",
    "\n",
    "print(\"Matrisin boyutu:\", rastgele_sayilar.size)\n",
    "\n",
    "print(\"Matrisin şekli:\", rastgele_sayilar.shape)\n",
    "\n",
    "print(\"Matrisin veri tipi:\", rastgele_sayilar.dtype)\n",
    "\n",
    "print(\"Matrisin boyut sayısı (ndim):\", rastgele_sayilar.ndim)"
   ]
  }
 ],
 "metadata": {
  "kernelspec": {
   "display_name": "Python 3",
   "language": "python",
   "name": "python3"
  },
  "language_info": {
   "codemirror_mode": {
    "name": "ipython",
    "version": 3
   },
   "file_extension": ".py",
   "mimetype": "text/x-python",
   "name": "python",
   "nbconvert_exporter": "python",
   "pygments_lexer": "ipython3",
   "version": "3.12.4"
  },
  "orig_nbformat": 4,
  "vscode": {
   "interpreter": {
    "hash": "5026d2d6e7aaaaba093def813beadff083d8733e4a511af01735cbabd156995d"
   }
  }
 },
 "nbformat": 4,
 "nbformat_minor": 2
}
