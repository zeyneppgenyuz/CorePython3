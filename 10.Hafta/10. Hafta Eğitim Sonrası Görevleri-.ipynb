{
 "cells": [
  {
   "attachments": {},
   "cell_type": "markdown",
   "metadata": {},
   "source": [
    "# Problem 1 "
   ]
  },
  {
   "cell_type": "code",
   "execution_count": null,
   "metadata": {},
   "outputs": [],
   "source": [
    "# 1 - numpy kütüphanesini import edin\n",
    "\n",
    "# 2 - 5 elemanlı bir numpy array oluşturun\n",
    "\n",
    "# 3 - Oluşturduğunuz arrayi küçükten büyüğe sıralayın.\n"
   ]
  },
  {
   "cell_type": "code",
   "execution_count": 1,
   "metadata": {},
   "outputs": [
    {
     "name": "stdout",
     "output_type": "stream",
     "text": [
      "Sıralanmış array: [ 1  5  7  9 12]\n"
     ]
    }
   ],
   "source": [
    "import numpy as np\n",
    "\n",
    "sayilar = np.array([12, 5, 7, 1, 9])\n",
    "\n",
    "siralanmis_sayilar = np.sort(sayilar)\n",
    "\n",
    "print(\"Sıralanmış array:\", siralanmis_sayilar)"
   ]
  },
  {
   "attachments": {},
   "cell_type": "markdown",
   "metadata": {},
   "source": [
    "# Problem 2"
   ]
  },
  {
   "cell_type": "code",
   "execution_count": null,
   "metadata": {},
   "outputs": [],
   "source": [
    "# 1- (10,15,30,45,60) değerlerine sahip numpy dizisi oluşturunuz.\n",
    "\n",
    "\n",
    "# 2- (5-15) arasındaki sayılarla numpy dizisi oluşturunuz.\n",
    " \n",
    "# 3- (50-100) arasında 5'er 5'er artarak numpy dizisi oluşturunuz.\n",
    "\n",
    "\n",
    "# 4- 10 elemanlı sıfırlardan oluşan bir dizi oluşturunuz.\n",
    "\n",
    "\n",
    "# 5- 10 elemanlı birlerden oluşan bir dizi oluşturunuz.\n",
    "\n",
    "\n",
    "# 6- (0-100) arasında eşit aralıklı 5 sayı üretin.\n",
    "\n",
    "\n",
    "# 7- (10-30) arasında rastgele 5 tane tamsayı üretin.\n",
    "\n",
    "\n",
    "# 8- [-1 ile 1] arasında 10 adet sayı üretin.\n",
    "\n",
    "\n",
    "# 9- (3x5) boyutlarında (10-50) arasında rastgele bir matris oluşturunuz.\n",
    "\n",
    "\n",
    "# 10- Üretilen matrisin satır ve sütun sayıları toplamlarını hesaplayınız ?\n",
    "\n",
    "\n",
    "# 11- Üretilen matrisin en büyük, en küçük ve ortalaması nedir ?\n",
    "\n",
    "\n",
    "# 12- Üretilen matrisin en büyük değerinin indeksi kaçtır ?\n",
    "\n",
    "\n",
    "# 13- (10-20) arasındaki sayıları içeren dizinin ilk 3 elemanını seçiniz.\n",
    "\n",
    "\n",
    "# 14- Üretilen dizinin elemanlarını tersten yazdırın.\n",
    "\n",
    "\n",
    "# 15- Üretilen matrisin ilk satırını seçiniz.\n",
    "\n",
    "\n",
    "# 16- Üretilen matrisin 2.satır 3.sütundaki elemanı hangisidir ?\n",
    "\n",
    "\n",
    "# 17- Üretilen matrisin tüm satırlardaki ilk elemanı seçiniz.\n",
    "\n",
    "\n",
    "# 18- Üretilen matrisin her bir elemanının karesini alınız.\n",
    "\n",
    "\n",
    "# 19- Üretilen matris elemanlarının hangisi pozitif çift sayıdır ? Aralığı (-50,+50) arasında yapınız.\n"
   ]
  },
  {
   "cell_type": "code",
   "execution_count": 2,
   "metadata": {},
   "outputs": [
    {
     "name": "stdout",
     "output_type": "stream",
     "text": [
      "Dizi 1: [10 15 30 45 60]\n",
      "Dizi 2: [ 5  6  7  8  9 10 11 12 13 14 15]\n",
      "Dizi 3: [ 50  55  60  65  70  75  80  85  90  95 100]\n",
      "Dizi 4: [0. 0. 0. 0. 0. 0. 0. 0. 0. 0.]\n",
      "Dizi 5: [1. 1. 1. 1. 1. 1. 1. 1. 1. 1.]\n",
      "Dizi 6: [  0.  25.  50.  75. 100.]\n",
      "Dizi 7: [11 10 12 15 10]\n",
      "Dizi 8: [-0.73833354  0.30841879  0.28026143  0.93861355  0.21119603 -0.79480464\n",
      "  0.65140968 -0.65719793  0.12879313 -0.47055984]\n",
      "Matris:\n",
      " [[29 22 37 17 12]\n",
      " [46 13 28 43 16]\n",
      " [45 17 16 28 17]]\n",
      "Satır toplamları: [117 146 123]\n",
      "Sütun toplamları: [120  52  81  88  45]\n",
      "En büyük: 46 En küçük: 12 Ortalama: 25.733333333333334\n",
      "En büyük değerin indeksi: 5\n",
      "Dizinin ilk 3 elemanı: [10 11 12]\n",
      "Dizinin tersten hali: [20 19 18 17 16 15 14 13 12 11 10]\n",
      "Matrisin ilk satırı: [29 22 37 17 12]\n",
      "2. satır 3. sütundaki eleman: 28\n",
      "Tüm satırların ilk elemanları: [29 46 45]\n",
      "Matrisin kareleri:\n",
      " [[ 841  484 1369  289  144]\n",
      " [2116  169  784 1849  256]\n",
      " [2025  289  256  784  289]]\n",
      "Pozitif çift sayılar: [ 6 24  6 18 14]\n"
     ]
    }
   ],
   "source": [
    "import numpy as np\n",
    "\n",
    "dizi1 = np.array([10, 15, 30, 45, 60])\n",
    "print(\"Dizi 1:\", dizi1)\n",
    "\n",
    "dizi2 = np.arange(5, 16)\n",
    "print(\"Dizi 2:\", dizi2)\n",
    "\n",
    "dizi3 = np.arange(50, 101, 5)\n",
    "print(\"Dizi 3:\", dizi3)\n",
    "\n",
    "dizi4 = np.zeros(10)\n",
    "print(\"Dizi 4:\", dizi4)\n",
    "\n",
    "dizi5 = np.ones(10)\n",
    "print(\"Dizi 5:\", dizi5)\n",
    "\n",
    "dizi6 = np.linspace(0, 100, 5)\n",
    "print(\"Dizi 6:\", dizi6)\n",
    "\n",
    "dizi7 = np.random.randint(10, 31, 5)\n",
    "print(\"Dizi 7:\", dizi7)\n",
    "\n",
    "dizi8 = np.random.uniform(-1, 1, 10)\n",
    "print(\"Dizi 8:\", dizi8)\n",
    "\n",
    "matris = np.random.randint(10, 51, (3, 5))\n",
    "print(\"Matris:\\n\", matris)\n",
    "\n",
    "satir_toplamlari = np.sum(matris, axis=1)\n",
    "sutun_toplamlari = np.sum(matris, axis=0)\n",
    "print(\"Satır toplamları:\", satir_toplamlari)\n",
    "print(\"Sütun toplamları:\", sutun_toplamlari)\n",
    "\n",
    "en_buyuk = np.max(matris)\n",
    "en_kucuk = np.min(matris)\n",
    "ortalama = np.mean(matris)\n",
    "print(\"En büyük:\", en_buyuk, \"En küçük:\", en_kucuk, \"Ortalama:\", ortalama)\n",
    "\n",
    "en_buyuk_indis = np.argmax(matris)\n",
    "print(\"En büyük değerin indeksi:\", en_buyuk_indis)\n",
    "\n",
    "dizi13 = np.arange(10, 21)\n",
    "print(\"Dizinin ilk 3 elemanı:\", dizi13[:3])\n",
    "\n",
    "ters_dizi13 = dizi13[::-1]\n",
    "print(\"Dizinin tersten hali:\", ters_dizi13)\n",
    "\n",
    "ilk_satir = matris[0, :]\n",
    "print(\"Matrisin ilk satırı:\", ilk_satir)\n",
    "\n",
    "elem_2_3 = matris[1, 2]\n",
    "print(\"2. satır 3. sütundaki eleman:\", elem_2_3)\n",
    "\n",
    "ilk_elemanlar = matris[:, 0]\n",
    "print(\"Tüm satırların ilk elemanları:\", ilk_elemanlar)\n",
    "\n",
    "matris_kare = np.square(matris)\n",
    "print(\"Matrisin kareleri:\\n\", matris_kare)\n",
    "\n",
    "yeni_matris = np.random.randint(-50, 51, (3, 5))\n",
    "pozitif_ciftler = yeni_matris[(yeni_matris > 0) & (yeni_matris % 2 == 0)]\n",
    "print(\"Pozitif çift sayılar:\", pozitif_ciftler)\n"
   ]
  }
 ],
 "metadata": {
  "kernelspec": {
   "display_name": "Python 3",
   "language": "python",
   "name": "python3"
  },
  "language_info": {
   "codemirror_mode": {
    "name": "ipython",
    "version": 3
   },
   "file_extension": ".py",
   "mimetype": "text/x-python",
   "name": "python",
   "nbconvert_exporter": "python",
   "pygments_lexer": "ipython3",
   "version": "3.12.4"
  },
  "orig_nbformat": 4,
  "vscode": {
   "interpreter": {
    "hash": "5026d2d6e7aaaaba093def813beadff083d8733e4a511af01735cbabd156995d"
   }
  }
 },
 "nbformat": 4,
 "nbformat_minor": 2
}
